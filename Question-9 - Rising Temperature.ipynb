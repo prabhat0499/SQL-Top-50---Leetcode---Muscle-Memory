{
 "cells": [
  {
   "cell_type": "code",
   "execution_count": 1,
   "id": "db343987-49bd-4f45-beed-aefbf0a5a286",
   "metadata": {},
   "outputs": [
    {
     "name": "stdout",
     "output_type": "stream",
     "text": [
      "Successfully connected to SQL database\n",
      "success\n"
     ]
    }
   ],
   "source": [
    "import pandas as pd\n",
    "import sqlite3\n",
    "import sql\n",
    "\n",
    "sql.style = 'plain'\n",
    "\n",
    "%load_ext sql\n",
    "connection=sqlite3.connect(\"leetcode_database.db\")\n",
    "print(\"Successfully connected to SQL database\")\n",
    "\n",
    "\n",
    "# Connect to SQLite\n",
    "%sql sqlite:///leetcode_database.db\n",
    "print(\"success\")"
   ]
  },
  {
   "cell_type": "code",
   "execution_count": 2,
   "id": "46ed0e85-485d-4970-9eff-e9d60e366365",
   "metadata": {},
   "outputs": [
    {
     "name": "stdout",
     "output_type": "stream",
     "text": [
      " * sqlite:///leetcode_database.db\n",
      "Done.\n",
      "Done.\n",
      "4 rows affected.\n"
     ]
    },
    {
     "data": {
      "text/plain": [
       "[]"
      ]
     },
     "execution_count": 2,
     "metadata": {},
     "output_type": "execute_result"
    }
   ],
   "source": [
    "%%sql\n",
    "-- Drop the table if it already exists\n",
    "DROP TABLE IF EXISTS Weather;\n",
    "\n",
    "-- Create the Weather table\n",
    "CREATE TABLE Weather (\n",
    "    id INT PRIMARY KEY,\n",
    "    recordDate DATE,\n",
    "    temperature INT\n",
    ");\n",
    "\n",
    "-- Insert data into Weather table\n",
    "INSERT INTO Weather (id, recordDate, temperature) VALUES\n",
    "(1, '2015-01-01', 10),\n",
    "(2, '2015-01-02', 25),\n",
    "(3, '2015-01-03', 20),\n",
    "(4, '2015-01-04', 30);\n"
   ]
  },
  {
   "cell_type": "code",
   "execution_count": 3,
   "id": "d0e180a8-684f-48bd-a9d8-6afb5e329701",
   "metadata": {},
   "outputs": [
    {
     "name": "stdout",
     "output_type": "stream",
     "text": [
      " * sqlite:///leetcode_database.db\n",
      "Done.\n"
     ]
    },
    {
     "data": {
      "text/html": [
       "<table>\n",
       "    <thead>\n",
       "        <tr>\n",
       "            <th>id</th>\n",
       "            <th>recordDate</th>\n",
       "            <th>temperature</th>\n",
       "        </tr>\n",
       "    </thead>\n",
       "    <tbody>\n",
       "        <tr>\n",
       "            <td>1</td>\n",
       "            <td>2015-01-01</td>\n",
       "            <td>10</td>\n",
       "        </tr>\n",
       "        <tr>\n",
       "            <td>2</td>\n",
       "            <td>2015-01-02</td>\n",
       "            <td>25</td>\n",
       "        </tr>\n",
       "        <tr>\n",
       "            <td>3</td>\n",
       "            <td>2015-01-03</td>\n",
       "            <td>20</td>\n",
       "        </tr>\n",
       "        <tr>\n",
       "            <td>4</td>\n",
       "            <td>2015-01-04</td>\n",
       "            <td>30</td>\n",
       "        </tr>\n",
       "    </tbody>\n",
       "</table>"
      ],
      "text/plain": [
       "[(1, '2015-01-01', 10),\n",
       " (2, '2015-01-02', 25),\n",
       " (3, '2015-01-03', 20),\n",
       " (4, '2015-01-04', 30)]"
      ]
     },
     "execution_count": 3,
     "metadata": {},
     "output_type": "execute_result"
    }
   ],
   "source": [
    "%%sql\n",
    "SELECT * FROM Weather"
   ]
  },
  {
   "cell_type": "markdown",
   "id": "47350e98-88c6-45e7-b1b7-a5613c595f83",
   "metadata": {},
   "source": [
    "###### PS : Write a solution to find all dates' id with higher temperatures compared to its previous dates (yesterday)."
   ]
  },
  {
   "cell_type": "markdown",
   "id": "b96be5f4-6c89-41dd-9fc4-df6dbb0ab4c1",
   "metadata": {},
   "source": [
    "* requirement is to compare today's temperature vs yesterday's.\n",
    "* present temperature and previous day's temperature\n",
    "* So, we'll only use LAG() WINDOW FUNCTION"
   ]
  },
  {
   "cell_type": "code",
   "execution_count": 16,
   "id": "889612cb-e8fe-4b9c-b3e0-436d0b2e10a3",
   "metadata": {},
   "outputs": [
    {
     "name": "stdout",
     "output_type": "stream",
     "text": [
      " * sqlite:///leetcode_database.db\n",
      "Done.\n"
     ]
    },
    {
     "data": {
      "text/html": [
       "<table>\n",
       "    <thead>\n",
       "        <tr>\n",
       "            <th>id</th>\n",
       "            <th>recordDate</th>\n",
       "            <th>temperature</th>\n",
       "            <th>Previous_day_temp</th>\n",
       "        </tr>\n",
       "    </thead>\n",
       "    <tbody>\n",
       "        <tr>\n",
       "            <td>1</td>\n",
       "            <td>2015-01-01</td>\n",
       "            <td>10</td>\n",
       "            <td>None</td>\n",
       "        </tr>\n",
       "        <tr>\n",
       "            <td>2</td>\n",
       "            <td>2015-01-02</td>\n",
       "            <td>25</td>\n",
       "            <td>10</td>\n",
       "        </tr>\n",
       "        <tr>\n",
       "            <td>3</td>\n",
       "            <td>2015-01-03</td>\n",
       "            <td>20</td>\n",
       "            <td>25</td>\n",
       "        </tr>\n",
       "        <tr>\n",
       "            <td>4</td>\n",
       "            <td>2015-01-04</td>\n",
       "            <td>30</td>\n",
       "            <td>20</td>\n",
       "        </tr>\n",
       "    </tbody>\n",
       "</table>"
      ],
      "text/plain": [
       "[(1, '2015-01-01', 10, None),\n",
       " (2, '2015-01-02', 25, 10),\n",
       " (3, '2015-01-03', 20, 25),\n",
       " (4, '2015-01-04', 30, 20)]"
      ]
     },
     "execution_count": 16,
     "metadata": {},
     "output_type": "execute_result"
    }
   ],
   "source": [
    "%%sql\n",
    "\n",
    "SELECT id, recordDate,\n",
    "    temperature,\n",
    "    LAG (temperature) OVER (ORDER BY recordDate) AS Previous_day_temp\n",
    "FROM Weather\n"
   ]
  },
  {
   "cell_type": "markdown",
   "id": "caed956d-5194-4a15-bdef-3b4888a5e5ec",
   "metadata": {},
   "source": [
    "* USE CTE here to put the WHERE condition or otherwise, how would WHERE knows prev-day_temp_column"
   ]
  },
  {
   "cell_type": "code",
   "execution_count": 18,
   "id": "196fc5c8-9a60-433b-accf-bc88fb6f6075",
   "metadata": {},
   "outputs": [
    {
     "name": "stdout",
     "output_type": "stream",
     "text": [
      " * sqlite:///leetcode_database.db\n",
      "Done.\n"
     ]
    },
    {
     "data": {
      "text/html": [
       "<table>\n",
       "    <thead>\n",
       "        <tr>\n",
       "            <th>id</th>\n",
       "            <th>recordDate</th>\n",
       "            <th>temperature</th>\n",
       "            <th>Previous_day_temp</th>\n",
       "        </tr>\n",
       "    </thead>\n",
       "    <tbody>\n",
       "        <tr>\n",
       "            <td>2</td>\n",
       "            <td>2015-01-02</td>\n",
       "            <td>25</td>\n",
       "            <td>10</td>\n",
       "        </tr>\n",
       "        <tr>\n",
       "            <td>4</td>\n",
       "            <td>2015-01-04</td>\n",
       "            <td>30</td>\n",
       "            <td>20</td>\n",
       "        </tr>\n",
       "    </tbody>\n",
       "</table>"
      ],
      "text/plain": [
       "[(2, '2015-01-02', 25, 10), (4, '2015-01-04', 30, 20)]"
      ]
     },
     "execution_count": 18,
     "metadata": {},
     "output_type": "execute_result"
    }
   ],
   "source": [
    "%%sql\n",
    "\n",
    "WITH temp AS (\n",
    "    SELECT id, recordDate,\n",
    "    temperature,\n",
    "    LAG (temperature) OVER (ORDER BY recordDate) AS Previous_day_temp\n",
    "    FROM Weather\n",
    ")\n",
    "SELECT *\n",
    "FROM temp\n",
    "WHERE temperature>Previous_day_temp"
   ]
  },
  {
   "cell_type": "code",
   "execution_count": 22,
   "id": "98c021e2-4293-4c47-b5fc-43c32bf51d37",
   "metadata": {},
   "outputs": [
    {
     "name": "stdout",
     "output_type": "stream",
     "text": [
      " * sqlite:///leetcode_database.db\n",
      "Done.\n"
     ]
    },
    {
     "data": {
      "text/html": [
       "<table>\n",
       "    <thead>\n",
       "        <tr>\n",
       "            <th>id</th>\n",
       "        </tr>\n",
       "    </thead>\n",
       "    <tbody>\n",
       "        <tr>\n",
       "            <td>2</td>\n",
       "        </tr>\n",
       "        <tr>\n",
       "            <td>4</td>\n",
       "        </tr>\n",
       "    </tbody>\n",
       "</table>"
      ],
      "text/plain": [
       "[(2,), (4,)]"
      ]
     },
     "execution_count": 22,
     "metadata": {},
     "output_type": "execute_result"
    }
   ],
   "source": [
    "%%sql\n",
    "\n",
    "WITH temp AS (\n",
    "    SELECT id, recordDate,\n",
    "    temperature,\n",
    "    LAG (temperature) OVER (ORDER BY recordDate) AS Previous_day_temp\n",
    "    FROM Weather\n",
    ")\n",
    "SELECT id\n",
    "FROM temp\n",
    "WHERE temperature>Previous_day_temp   -- Present temp > previous day's temperature"
   ]
  },
  {
   "cell_type": "code",
   "execution_count": null,
   "id": "bc9fa105-db85-49f8-bc05-06cdf5ede3c4",
   "metadata": {},
   "outputs": [],
   "source": []
  }
 ],
 "metadata": {
  "kernelspec": {
   "display_name": "Python [conda env:base] *",
   "language": "python",
   "name": "conda-base-py"
  },
  "language_info": {
   "codemirror_mode": {
    "name": "ipython",
    "version": 3
   },
   "file_extension": ".py",
   "mimetype": "text/x-python",
   "name": "python",
   "nbconvert_exporter": "python",
   "pygments_lexer": "ipython3",
   "version": "3.12.7"
  }
 },
 "nbformat": 4,
 "nbformat_minor": 5
}
