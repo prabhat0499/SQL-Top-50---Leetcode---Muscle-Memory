{
 "cells": [
  {
   "cell_type": "code",
   "execution_count": 1,
   "id": "33fbbff4-7280-4cb6-a39f-38f0c0929efa",
   "metadata": {},
   "outputs": [
    {
     "name": "stdout",
     "output_type": "stream",
     "text": [
      "Successfully connected to SQL database\n",
      "success\n"
     ]
    }
   ],
   "source": [
    "import pandas as pd\n",
    "import sqlite3\n",
    "import sql\n",
    "\n",
    "sql.style = 'plain'\n",
    "\n",
    "%load_ext sql\n",
    "connection=sqlite3.connect(\"leetcode_database.db\")\n",
    "print(\"Successfully connected to SQL database\")\n",
    "\n",
    "\n",
    "# Connect to SQLite\n",
    "%sql sqlite:///leetcode_database.db\n",
    "print(\"success\")"
   ]
  },
  {
   "cell_type": "code",
   "execution_count": 2,
   "id": "ce3b271d-9568-47af-aee7-46add67c1805",
   "metadata": {},
   "outputs": [
    {
     "name": "stdout",
     "output_type": "stream",
     "text": [
      " * sqlite:///leetcode_database.db\n",
      "Done.\n",
      "Done.\n",
      "7 rows affected.\n"
     ]
    },
    {
     "data": {
      "text/plain": [
       "[]"
      ]
     },
     "execution_count": 2,
     "metadata": {},
     "output_type": "execute_result"
    }
   ],
   "source": [
    "%%sql\n",
    "-- Drop the table if it already exists\n",
    "DROP TABLE IF EXISTS Views;\n",
    "\n",
    "-- Create the Views table\n",
    "CREATE TABLE Views (\n",
    "    article_id INT,\n",
    "    author_id INT,\n",
    "    viewer_id INT,\n",
    "    view_date DATE\n",
    ");\n",
    "\n",
    "-- Insert data into Views table\n",
    "INSERT INTO Views (article_id, author_id, viewer_id, view_date) VALUES\n",
    "(1, 3, 5, '2019-08-01'),\n",
    "(1, 3, 6, '2019-08-02'),\n",
    "(2, 7, 7, '2019-08-01'),\n",
    "(2, 7, 6, '2019-08-02'),\n",
    "(4, 7, 1, '2019-07-22'),\n",
    "(3, 4, 4, '2019-07-21'),\n",
    "(3, 4, 4, '2019-07-21');\n"
   ]
  },
  {
   "cell_type": "code",
   "execution_count": 3,
   "id": "0d92618d-3307-4e42-a0f7-3e15b7747a8a",
   "metadata": {},
   "outputs": [
    {
     "name": "stdout",
     "output_type": "stream",
     "text": [
      " * sqlite:///leetcode_database.db\n",
      "Done.\n"
     ]
    },
    {
     "data": {
      "text/html": [
       "<table>\n",
       "    <thead>\n",
       "        <tr>\n",
       "            <th>article_id</th>\n",
       "            <th>author_id</th>\n",
       "            <th>viewer_id</th>\n",
       "            <th>view_date</th>\n",
       "        </tr>\n",
       "    </thead>\n",
       "    <tbody>\n",
       "        <tr>\n",
       "            <td>1</td>\n",
       "            <td>3</td>\n",
       "            <td>5</td>\n",
       "            <td>2019-08-01</td>\n",
       "        </tr>\n",
       "        <tr>\n",
       "            <td>1</td>\n",
       "            <td>3</td>\n",
       "            <td>6</td>\n",
       "            <td>2019-08-02</td>\n",
       "        </tr>\n",
       "        <tr>\n",
       "            <td>2</td>\n",
       "            <td>7</td>\n",
       "            <td>7</td>\n",
       "            <td>2019-08-01</td>\n",
       "        </tr>\n",
       "        <tr>\n",
       "            <td>2</td>\n",
       "            <td>7</td>\n",
       "            <td>6</td>\n",
       "            <td>2019-08-02</td>\n",
       "        </tr>\n",
       "        <tr>\n",
       "            <td>4</td>\n",
       "            <td>7</td>\n",
       "            <td>1</td>\n",
       "            <td>2019-07-22</td>\n",
       "        </tr>\n",
       "        <tr>\n",
       "            <td>3</td>\n",
       "            <td>4</td>\n",
       "            <td>4</td>\n",
       "            <td>2019-07-21</td>\n",
       "        </tr>\n",
       "        <tr>\n",
       "            <td>3</td>\n",
       "            <td>4</td>\n",
       "            <td>4</td>\n",
       "            <td>2019-07-21</td>\n",
       "        </tr>\n",
       "    </tbody>\n",
       "</table>"
      ],
      "text/plain": [
       "[(1, 3, 5, '2019-08-01'),\n",
       " (1, 3, 6, '2019-08-02'),\n",
       " (2, 7, 7, '2019-08-01'),\n",
       " (2, 7, 6, '2019-08-02'),\n",
       " (4, 7, 1, '2019-07-22'),\n",
       " (3, 4, 4, '2019-07-21'),\n",
       " (3, 4, 4, '2019-07-21')]"
      ]
     },
     "execution_count": 3,
     "metadata": {},
     "output_type": "execute_result"
    }
   ],
   "source": [
    "%%sql\n",
    "SELECT * FROM Views"
   ]
  },
  {
   "cell_type": "markdown",
   "id": "23f41b13-f35b-4c60-95cb-429162e2ac6b",
   "metadata": {},
   "source": [
    "##### PS : Write a solution to find all the authors that viewed at least one of their own articles."
   ]
  },
  {
   "cell_type": "markdown",
   "id": "a7fa832b-8b19-488e-91e5-4a3793101040",
   "metadata": {},
   "source": [
    "Understanding the Problem\n",
    "* Find those authors who have viewed thier own article\n",
    "* author is a person\n",
    "* Written in the question - Note that equal author_id and viewer_id indicate the same person.\n",
    "* similarly, viewer is also a person, so we'll see where they matches\n",
    "* if the viewed_id = author_id, that means, author have seen his/her own article\n",
    "* sorted by id in ASCENDING ORDER - lowest to highest\n",
    "\n",
    "\n"
   ]
  },
  {
   "cell_type": "code",
   "execution_count": 9,
   "id": "06d134a6-6734-4ae2-b5b9-a33830fb6929",
   "metadata": {},
   "outputs": [
    {
     "name": "stdout",
     "output_type": "stream",
     "text": [
      " * sqlite:///leetcode_database.db\n",
      "Done.\n"
     ]
    },
    {
     "data": {
      "text/html": [
       "<table>\n",
       "    <thead>\n",
       "        <tr>\n",
       "            <th>article_id</th>\n",
       "            <th>author_id</th>\n",
       "            <th>viewer_id</th>\n",
       "            <th>view_date</th>\n",
       "        </tr>\n",
       "    </thead>\n",
       "    <tbody>\n",
       "        <tr>\n",
       "            <td>2</td>\n",
       "            <td>7</td>\n",
       "            <td>7</td>\n",
       "            <td>2019-08-01</td>\n",
       "        </tr>\n",
       "        <tr>\n",
       "            <td>3</td>\n",
       "            <td>4</td>\n",
       "            <td>4</td>\n",
       "            <td>2019-07-21</td>\n",
       "        </tr>\n",
       "        <tr>\n",
       "            <td>3</td>\n",
       "            <td>4</td>\n",
       "            <td>4</td>\n",
       "            <td>2019-07-21</td>\n",
       "        </tr>\n",
       "    </tbody>\n",
       "</table>"
      ],
      "text/plain": [
       "[(2, 7, 7, '2019-08-01'), (3, 4, 4, '2019-07-21'), (3, 4, 4, '2019-07-21')]"
      ]
     },
     "execution_count": 9,
     "metadata": {},
     "output_type": "execute_result"
    }
   ],
   "source": [
    "%%sql\n",
    "SELECT *\n",
    "FROM Views\n",
    "WHERE author_id=viewer_id"
   ]
  },
  {
   "cell_type": "code",
   "execution_count": 11,
   "id": "cde64340-06e9-42b4-9f89-db5b243de48e",
   "metadata": {},
   "outputs": [
    {
     "name": "stdout",
     "output_type": "stream",
     "text": [
      " * sqlite:///leetcode_database.db\n",
      "Done.\n"
     ]
    },
    {
     "data": {
      "text/html": [
       "<table>\n",
       "    <thead>\n",
       "        <tr>\n",
       "            <th>author_id</th>\n",
       "        </tr>\n",
       "    </thead>\n",
       "    <tbody>\n",
       "        <tr>\n",
       "            <td>7</td>\n",
       "        </tr>\n",
       "        <tr>\n",
       "            <td>4</td>\n",
       "        </tr>\n",
       "        <tr>\n",
       "            <td>4</td>\n",
       "        </tr>\n",
       "    </tbody>\n",
       "</table>"
      ],
      "text/plain": [
       "[(7,), (4,), (4,)]"
      ]
     },
     "execution_count": 11,
     "metadata": {},
     "output_type": "execute_result"
    }
   ],
   "source": [
    "%%sql\n",
    "SELECT author_id\n",
    "FROM Views\n",
    "WHERE author_id=viewer_id"
   ]
  },
  {
   "cell_type": "code",
   "execution_count": 13,
   "id": "2b7fa1ea-f7f2-4270-bbeb-e7fda77a626d",
   "metadata": {},
   "outputs": [
    {
     "name": "stdout",
     "output_type": "stream",
     "text": [
      " * sqlite:///leetcode_database.db\n",
      "Done.\n"
     ]
    },
    {
     "data": {
      "text/html": [
       "<table>\n",
       "    <thead>\n",
       "        <tr>\n",
       "            <th>author_id</th>\n",
       "        </tr>\n",
       "    </thead>\n",
       "    <tbody>\n",
       "        <tr>\n",
       "            <td>7</td>\n",
       "        </tr>\n",
       "        <tr>\n",
       "            <td>4</td>\n",
       "        </tr>\n",
       "    </tbody>\n",
       "</table>"
      ],
      "text/plain": [
       "[(7,), (4,)]"
      ]
     },
     "execution_count": 13,
     "metadata": {},
     "output_type": "execute_result"
    }
   ],
   "source": [
    "%%sql \n",
    "SELECT DISTINCT(author_id)  -- Distinct removes duplicate rows\n",
    "FROM Views\n",
    "WHERE author_id=viewer_id"
   ]
  },
  {
   "cell_type": "markdown",
   "id": "8530650a-3d65-4535-a634-066372542e47",
   "metadata": {},
   "source": [
    "- Learnings\n",
    "    1. DISTINCT (column) - gives unique value of a column\n",
    "    2. Removes Duplicates\n",
    "    3. Works at Row Level, it checks values row"
   ]
  },
  {
   "cell_type": "markdown",
   "id": "daeaa467-9a95-4bc9-9a73-f339486467cb",
   "metadata": {},
   "source": [
    "* Common Mistake\n",
    "\n",
    "SELECT DISTINCT viewer_id, view_date\n",
    "\n",
    "FROM Views;\n",
    "\n",
    "* This will not just give you distinct viewer_ids — it will give distinct combinations of viewer_id + view_date. \n",
    "* So if a user views something on two different dates, you'll get two rows.\n"
   ]
  },
  {
   "cell_type": "code",
   "execution_count": null,
   "id": "9620745e-7162-42c5-bb49-bac13bbc83fc",
   "metadata": {},
   "outputs": [],
   "source": []
  }
 ],
 "metadata": {
  "kernelspec": {
   "display_name": "Python [conda env:base] *",
   "language": "python",
   "name": "conda-base-py"
  },
  "language_info": {
   "codemirror_mode": {
    "name": "ipython",
    "version": 3
   },
   "file_extension": ".py",
   "mimetype": "text/x-python",
   "name": "python",
   "nbconvert_exporter": "python",
   "pygments_lexer": "ipython3",
   "version": "3.12.7"
  }
 },
 "nbformat": 4,
 "nbformat_minor": 5
}
