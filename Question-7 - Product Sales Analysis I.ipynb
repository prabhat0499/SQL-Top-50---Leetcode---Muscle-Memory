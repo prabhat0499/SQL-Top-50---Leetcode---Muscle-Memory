{
 "cells": [
  {
   "cell_type": "code",
   "execution_count": 1,
   "id": "b8c76e93-236a-4afd-b470-28cb786cfb2a",
   "metadata": {},
   "outputs": [
    {
     "name": "stdout",
     "output_type": "stream",
     "text": [
      "Successfully connected to SQL database\n",
      "success\n"
     ]
    }
   ],
   "source": [
    "import pandas as pd\n",
    "import sqlite3\n",
    "import sql\n",
    "\n",
    "sql.style = 'plain'\n",
    "\n",
    "%load_ext sql\n",
    "connection=sqlite3.connect(\"leetcode_database.db\")\n",
    "print(\"Successfully connected to SQL database\")\n",
    "\n",
    "\n",
    "# Connect to SQLite\n",
    "%sql sqlite:///leetcode_database.db\n",
    "print(\"success\")"
   ]
  },
  {
   "cell_type": "code",
   "execution_count": 3,
   "id": "df0aaa90-4b06-4821-b7d5-711c6f96ce87",
   "metadata": {},
   "outputs": [
    {
     "name": "stdout",
     "output_type": "stream",
     "text": [
      " * sqlite:///leetcode_database.db\n",
      "Done.\n",
      "Done.\n",
      "Done.\n",
      "3 rows affected.\n"
     ]
    },
    {
     "data": {
      "text/plain": [
       "[]"
      ]
     },
     "execution_count": 3,
     "metadata": {},
     "output_type": "execute_result"
    }
   ],
   "source": [
    "%%sql\n",
    "-- Drop tables if they already exist\n",
    "DROP TABLE IF EXISTS Sales;\n",
    "DROP TABLE IF EXISTS Product;\n",
    "\n",
    "-- Create the Product table\n",
    "CREATE TABLE Product (\n",
    "    product_id INT PRIMARY KEY,\n",
    "    product_name VARCHAR(100)\n",
    ");\n",
    "\n",
    "-- Insert data into Product\n",
    "INSERT INTO Product (product_id, product_name) VALUES\n",
    "(100, 'Nokia'),\n",
    "(200, 'Apple'),\n",
    "(300, 'Samsung');"
   ]
  },
  {
   "cell_type": "code",
   "execution_count": 4,
   "id": "c8367a63-4561-49ce-8fc0-2f1aec6ed07b",
   "metadata": {},
   "outputs": [
    {
     "name": "stdout",
     "output_type": "stream",
     "text": [
      " * sqlite:///leetcode_database.db\n",
      "Done.\n",
      "3 rows affected.\n"
     ]
    },
    {
     "data": {
      "text/plain": [
       "[]"
      ]
     },
     "execution_count": 4,
     "metadata": {},
     "output_type": "execute_result"
    }
   ],
   "source": [
    "%%sql\n",
    "-- Create the Sales table\n",
    "CREATE TABLE Sales (\n",
    "    sale_id INT PRIMARY KEY,\n",
    "    product_id INT,\n",
    "    year INT,\n",
    "    quantity INT,\n",
    "    price INT\n",
    ");\n",
    "\n",
    "-- Insert data into Sales\n",
    "INSERT INTO Sales (sale_id, product_id, year, quantity, price) VALUES\n",
    "(1, 100, 2008, 10, 5000),\n",
    "(2, 100, 2009, 12, 5000),\n",
    "(7, 200, 2011, 15, 9000);"
   ]
  },
  {
   "cell_type": "code",
   "execution_count": 5,
   "id": "244a8ad1-0c2e-4066-8eb8-72f14a90232b",
   "metadata": {},
   "outputs": [
    {
     "name": "stdout",
     "output_type": "stream",
     "text": [
      " * sqlite:///leetcode_database.db\n",
      "Done.\n"
     ]
    },
    {
     "data": {
      "text/html": [
       "<table>\n",
       "    <thead>\n",
       "        <tr>\n",
       "            <th>product_id</th>\n",
       "            <th>product_name</th>\n",
       "        </tr>\n",
       "    </thead>\n",
       "    <tbody>\n",
       "        <tr>\n",
       "            <td>100</td>\n",
       "            <td>Nokia</td>\n",
       "        </tr>\n",
       "        <tr>\n",
       "            <td>200</td>\n",
       "            <td>Apple</td>\n",
       "        </tr>\n",
       "        <tr>\n",
       "            <td>300</td>\n",
       "            <td>Samsung</td>\n",
       "        </tr>\n",
       "    </tbody>\n",
       "</table>"
      ],
      "text/plain": [
       "[(100, 'Nokia'), (200, 'Apple'), (300, 'Samsung')]"
      ]
     },
     "execution_count": 5,
     "metadata": {},
     "output_type": "execute_result"
    }
   ],
   "source": [
    "%%sql\n",
    "SELECT * FROM Product"
   ]
  },
  {
   "cell_type": "code",
   "execution_count": 6,
   "id": "18cc091e-d954-4637-8314-2bbf74e7ea55",
   "metadata": {},
   "outputs": [
    {
     "name": "stdout",
     "output_type": "stream",
     "text": [
      " * sqlite:///leetcode_database.db\n",
      "Done.\n"
     ]
    },
    {
     "data": {
      "text/html": [
       "<table>\n",
       "    <thead>\n",
       "        <tr>\n",
       "            <th>sale_id</th>\n",
       "            <th>product_id</th>\n",
       "            <th>year</th>\n",
       "            <th>quantity</th>\n",
       "            <th>price</th>\n",
       "        </tr>\n",
       "    </thead>\n",
       "    <tbody>\n",
       "        <tr>\n",
       "            <td>1</td>\n",
       "            <td>100</td>\n",
       "            <td>2008</td>\n",
       "            <td>10</td>\n",
       "            <td>5000</td>\n",
       "        </tr>\n",
       "        <tr>\n",
       "            <td>2</td>\n",
       "            <td>100</td>\n",
       "            <td>2009</td>\n",
       "            <td>12</td>\n",
       "            <td>5000</td>\n",
       "        </tr>\n",
       "        <tr>\n",
       "            <td>7</td>\n",
       "            <td>200</td>\n",
       "            <td>2011</td>\n",
       "            <td>15</td>\n",
       "            <td>9000</td>\n",
       "        </tr>\n",
       "    </tbody>\n",
       "</table>"
      ],
      "text/plain": [
       "[(1, 100, 2008, 10, 5000), (2, 100, 2009, 12, 5000), (7, 200, 2011, 15, 9000)]"
      ]
     },
     "execution_count": 6,
     "metadata": {},
     "output_type": "execute_result"
    }
   ],
   "source": [
    "%%sql\n",
    "SELECT * FROM Sales"
   ]
  },
  {
   "cell_type": "markdown",
   "id": "9fefb741-7e8e-4b9b-b3c4-e6227127f95d",
   "metadata": {},
   "source": [
    "##### PS:  Write a solution to report the product_name, year, and price for each sale_id in the Sales table."
   ]
  },
  {
   "cell_type": "code",
   "execution_count": 7,
   "id": "7bcedabf-47a3-449c-9056-49c88019426f",
   "metadata": {},
   "outputs": [
    {
     "name": "stdout",
     "output_type": "stream",
     "text": [
      " * sqlite:///leetcode_database.db\n",
      "Done.\n"
     ]
    },
    {
     "data": {
      "text/html": [
       "<table>\n",
       "    <thead>\n",
       "        <tr>\n",
       "            <th>sale_id</th>\n",
       "            <th>product_name</th>\n",
       "            <th>year</th>\n",
       "            <th>price</th>\n",
       "        </tr>\n",
       "    </thead>\n",
       "    <tbody>\n",
       "        <tr>\n",
       "            <td>1</td>\n",
       "            <td>Nokia</td>\n",
       "            <td>2008</td>\n",
       "            <td>5000</td>\n",
       "        </tr>\n",
       "        <tr>\n",
       "            <td>2</td>\n",
       "            <td>Nokia</td>\n",
       "            <td>2009</td>\n",
       "            <td>5000</td>\n",
       "        </tr>\n",
       "        <tr>\n",
       "            <td>7</td>\n",
       "            <td>Apple</td>\n",
       "            <td>2011</td>\n",
       "            <td>9000</td>\n",
       "        </tr>\n",
       "    </tbody>\n",
       "</table>"
      ],
      "text/plain": [
       "[(1, 'Nokia', 2008, 5000), (2, 'Nokia', 2009, 5000), (7, 'Apple', 2011, 9000)]"
      ]
     },
     "execution_count": 7,
     "metadata": {},
     "output_type": "execute_result"
    }
   ],
   "source": [
    "%%sql\n",
    "\n",
    "SELECT s.sale_id,p.product_name,s.year,s.price\n",
    "FROM Sales s\n",
    "LEFT JOIN Product p\n",
    "ON s.product_id=p.product_id"
   ]
  }
 ],
 "metadata": {
  "kernelspec": {
   "display_name": "Python [conda env:base] *",
   "language": "python",
   "name": "conda-base-py"
  },
  "language_info": {
   "codemirror_mode": {
    "name": "ipython",
    "version": 3
   },
   "file_extension": ".py",
   "mimetype": "text/x-python",
   "name": "python",
   "nbconvert_exporter": "python",
   "pygments_lexer": "ipython3",
   "version": "3.12.7"
  }
 },
 "nbformat": 4,
 "nbformat_minor": 5
}
