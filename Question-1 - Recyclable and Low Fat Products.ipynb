{
 "cells": [
  {
   "cell_type": "code",
   "execution_count": 1,
   "id": "ca959075-704d-4593-b03c-95d3c6692339",
   "metadata": {},
   "outputs": [
    {
     "name": "stdout",
     "output_type": "stream",
     "text": [
      "Successfully connected to SQL database\n",
      "success\n"
     ]
    }
   ],
   "source": [
    "import pandas as pd\n",
    "import sqlite3\n",
    "import sql\n",
    "\n",
    "sql.style = 'plain'\n",
    "\n",
    "%load_ext sql\n",
    "connection=sqlite3.connect(\"leetcode_database.db\")\n",
    "print(\"Successfully connected to SQL database\")\n",
    "\n",
    "\n",
    "# Connect to SQLite\n",
    "%sql sqlite:///leetcode_database.db\n",
    "print(\"success\")\n"
   ]
  },
  {
   "cell_type": "code",
   "execution_count": 4,
   "id": "909682a8-62b9-44de-a8c3-8705bc67efa2",
   "metadata": {},
   "outputs": [
    {
     "name": "stdout",
     "output_type": "stream",
     "text": [
      " * sqlite:///leetcode_database.db\n",
      "Done.\n",
      "Done.\n",
      "5 rows affected.\n"
     ]
    },
    {
     "data": {
      "text/plain": [
       "[]"
      ]
     },
     "execution_count": 4,
     "metadata": {},
     "output_type": "execute_result"
    }
   ],
   "source": [
    "%%sql\n",
    "\n",
    "-- Drop the table if it already exists\n",
    "DROP TABLE IF EXISTS Products;\n",
    "\n",
    "-- Create the Products table\n",
    "CREATE TABLE Products (\n",
    "    product_id INT PRIMARY KEY,\n",
    "    low_fats CHAR(1),\n",
    "    recyclable CHAR(1)\n",
    ");\n",
    "\n",
    "-- Insert data into Products table\n",
    "INSERT INTO Products (product_id, low_fats, recyclable) VALUES\n",
    "(0, 'Y', 'N'),\n",
    "(1, 'Y', 'Y'),\n",
    "(2, 'N', 'Y'),\n",
    "(3, 'Y', 'Y'),\n",
    "(4, 'N', 'N');"
   ]
  },
  {
   "cell_type": "code",
   "execution_count": 5,
   "id": "6c2056db-ea73-4914-8a9f-09815eb2a0b1",
   "metadata": {},
   "outputs": [
    {
     "name": "stdout",
     "output_type": "stream",
     "text": [
      " * sqlite:///leetcode_database.db\n",
      "Done.\n"
     ]
    },
    {
     "data": {
      "text/html": [
       "<table>\n",
       "    <thead>\n",
       "        <tr>\n",
       "            <th>product_id</th>\n",
       "            <th>low_fats</th>\n",
       "            <th>recyclable</th>\n",
       "        </tr>\n",
       "    </thead>\n",
       "    <tbody>\n",
       "        <tr>\n",
       "            <td>0</td>\n",
       "            <td>Y</td>\n",
       "            <td>N</td>\n",
       "        </tr>\n",
       "        <tr>\n",
       "            <td>1</td>\n",
       "            <td>Y</td>\n",
       "            <td>Y</td>\n",
       "        </tr>\n",
       "        <tr>\n",
       "            <td>2</td>\n",
       "            <td>N</td>\n",
       "            <td>Y</td>\n",
       "        </tr>\n",
       "        <tr>\n",
       "            <td>3</td>\n",
       "            <td>Y</td>\n",
       "            <td>Y</td>\n",
       "        </tr>\n",
       "        <tr>\n",
       "            <td>4</td>\n",
       "            <td>N</td>\n",
       "            <td>N</td>\n",
       "        </tr>\n",
       "    </tbody>\n",
       "</table>"
      ],
      "text/plain": [
       "[(0, 'Y', 'N'), (1, 'Y', 'Y'), (2, 'N', 'Y'), (3, 'Y', 'Y'), (4, 'N', 'N')]"
      ]
     },
     "execution_count": 5,
     "metadata": {},
     "output_type": "execute_result"
    }
   ],
   "source": [
    "%%sql\n",
    "SELECT * FROM Products"
   ]
  },
  {
   "cell_type": "markdown",
   "id": "08a84532-bf5b-475b-bc76-0c8ef20de6a1",
   "metadata": {},
   "source": [
    "#### Problem Statement - Find ids of products that are both low fat and recyclable"
   ]
  },
  {
   "cell_type": "markdown",
   "id": "43c5f322-2fb7-42aa-b910-4f50d13541e4",
   "metadata": {},
   "source": [
    "* Pseduo Code\n",
    "* Output requires column - product_id\n",
    "* Those ids that satisfies both these conditions\n",
    "* Will use \"WHERE\" for filtering out those product_id that satisfies both cases"
   ]
  },
  {
   "cell_type": "code",
   "execution_count": 6,
   "id": "06a4b65c-5b6a-4784-a967-117292179be7",
   "metadata": {},
   "outputs": [
    {
     "name": "stdout",
     "output_type": "stream",
     "text": [
      " * sqlite:///leetcode_database.db\n",
      "Done.\n"
     ]
    },
    {
     "data": {
      "text/html": [
       "<table>\n",
       "    <thead>\n",
       "        <tr>\n",
       "            <th>product_id</th>\n",
       "        </tr>\n",
       "    </thead>\n",
       "    <tbody>\n",
       "        <tr>\n",
       "            <td>1</td>\n",
       "        </tr>\n",
       "        <tr>\n",
       "            <td>3</td>\n",
       "        </tr>\n",
       "    </tbody>\n",
       "</table>"
      ],
      "text/plain": [
       "[(1,), (3,)]"
      ]
     },
     "execution_count": 6,
     "metadata": {},
     "output_type": "execute_result"
    }
   ],
   "source": [
    "%%sql\n",
    "\n",
    "SELECT product_id\n",
    "FROM Products\n",
    "WHERE low_fats='Y' AND recyclable = 'Y'"
   ]
  },
  {
   "cell_type": "markdown",
   "id": "36c16598-e56c-4418-8bf9-22a9e6a1c4b8",
   "metadata": {},
   "source": [
    "* Few Learnings\n",
    "  1. We use WHERE string_column = 'string' to filter out strings\n",
    "  2. If we have to filter out an Integer, we'll simply write\n",
    "  3. WHERE product_id = 3\n",
    "  4. WHERE product_id ='3' works in some databases, but not ideal\n",
    "  5. We can also filter out Float values like\n",
    "  6. WHERE price = 10.5\n",
    "  7. WHERE price > 10.5\n",
    "  8. WHERE price < 10.5\n",
    "  9. WHERE price BETWEEN 5.0 AND 15.0"
   ]
  }
 ],
 "metadata": {
  "kernelspec": {
   "display_name": "Python [conda env:base] *",
   "language": "python",
   "name": "conda-base-py"
  },
  "language_info": {
   "codemirror_mode": {
    "name": "ipython",
    "version": 3
   },
   "file_extension": ".py",
   "mimetype": "text/x-python",
   "name": "python",
   "nbconvert_exporter": "python",
   "pygments_lexer": "ipython3",
   "version": "3.12.7"
  }
 },
 "nbformat": 4,
 "nbformat_minor": 5
}
