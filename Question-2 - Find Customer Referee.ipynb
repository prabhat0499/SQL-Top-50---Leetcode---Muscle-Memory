{
 "cells": [
  {
   "cell_type": "code",
   "execution_count": 1,
   "id": "7527a140-a822-43a6-827a-5c38d0ddcfcd",
   "metadata": {},
   "outputs": [
    {
     "name": "stdout",
     "output_type": "stream",
     "text": [
      "Successfully connected to SQL database\n",
      "success\n"
     ]
    }
   ],
   "source": [
    "import pandas as pd\n",
    "import sqlite3\n",
    "import sql\n",
    "\n",
    "sql.style = 'plain'\n",
    "\n",
    "%load_ext sql\n",
    "connection=sqlite3.connect(\"leetcode_database.db\")\n",
    "print(\"Successfully connected to SQL database\")\n",
    "\n",
    "\n",
    "# Connect to SQLite\n",
    "%sql sqlite:///leetcode_database.db\n",
    "print(\"success\")"
   ]
  },
  {
   "cell_type": "code",
   "execution_count": 3,
   "id": "cf2a44d2-fc1f-41ca-b9fe-4817798f3ce9",
   "metadata": {},
   "outputs": [
    {
     "name": "stdout",
     "output_type": "stream",
     "text": [
      " * sqlite:///leetcode_database.db\n",
      "Done.\n",
      "Done.\n",
      "6 rows affected.\n"
     ]
    },
    {
     "data": {
      "text/plain": [
       "[]"
      ]
     },
     "execution_count": 3,
     "metadata": {},
     "output_type": "execute_result"
    }
   ],
   "source": [
    "%%sql\n",
    "-- Drop the table if it already exists\n",
    "DROP TABLE IF EXISTS Customer;\n",
    "\n",
    "-- Create the Customer table\n",
    "CREATE TABLE Customer (\n",
    "    id INT PRIMARY KEY,\n",
    "    name VARCHAR(100),\n",
    "    referee_id INT\n",
    ");\n",
    "\n",
    "-- Insert data into Customer table\n",
    "INSERT INTO Customer (id, name, referee_id) VALUES\n",
    "(1, 'Will', NULL),\n",
    "(2, 'Jane', NULL),\n",
    "(3, 'Alex', 2),\n",
    "(4, 'Bill', NULL),\n",
    "(5, 'Zack', 1),\n",
    "(6, 'Mark', 2);"
   ]
  },
  {
   "cell_type": "code",
   "execution_count": 4,
   "id": "5edbcb7a-5441-4718-8d96-28bd83e8ec0f",
   "metadata": {},
   "outputs": [
    {
     "name": "stdout",
     "output_type": "stream",
     "text": [
      " * sqlite:///leetcode_database.db\n",
      "Done.\n"
     ]
    },
    {
     "data": {
      "text/html": [
       "<table>\n",
       "    <thead>\n",
       "        <tr>\n",
       "            <th>id</th>\n",
       "            <th>name</th>\n",
       "            <th>referee_id</th>\n",
       "        </tr>\n",
       "    </thead>\n",
       "    <tbody>\n",
       "        <tr>\n",
       "            <td>1</td>\n",
       "            <td>Will</td>\n",
       "            <td>None</td>\n",
       "        </tr>\n",
       "        <tr>\n",
       "            <td>2</td>\n",
       "            <td>Jane</td>\n",
       "            <td>None</td>\n",
       "        </tr>\n",
       "        <tr>\n",
       "            <td>3</td>\n",
       "            <td>Alex</td>\n",
       "            <td>2</td>\n",
       "        </tr>\n",
       "        <tr>\n",
       "            <td>4</td>\n",
       "            <td>Bill</td>\n",
       "            <td>None</td>\n",
       "        </tr>\n",
       "        <tr>\n",
       "            <td>5</td>\n",
       "            <td>Zack</td>\n",
       "            <td>1</td>\n",
       "        </tr>\n",
       "        <tr>\n",
       "            <td>6</td>\n",
       "            <td>Mark</td>\n",
       "            <td>2</td>\n",
       "        </tr>\n",
       "    </tbody>\n",
       "</table>"
      ],
      "text/plain": [
       "[(1, 'Will', None),\n",
       " (2, 'Jane', None),\n",
       " (3, 'Alex', 2),\n",
       " (4, 'Bill', None),\n",
       " (5, 'Zack', 1),\n",
       " (6, 'Mark', 2)]"
      ]
     },
     "execution_count": 4,
     "metadata": {},
     "output_type": "execute_result"
    }
   ],
   "source": [
    "%%sql\n",
    "SELECT * FROM Customer"
   ]
  },
  {
   "cell_type": "markdown",
   "id": "19c07eb0-dd7d-44bd-af93-7a76b29129a6",
   "metadata": {},
   "source": [
    "##### Problem Statement - Find the names of the customer that are not referred by the customer with id = 2."
   ]
  },
  {
   "cell_type": "markdown",
   "id": "1754352e-ae25-4698-9bd1-feb90ddfbef2",
   "metadata": {},
   "source": [
    "* Psuedo Code\n",
    "  1. Find those customer who are not referred by id 2"
   ]
  },
  {
   "cell_type": "code",
   "execution_count": 11,
   "id": "1774e1c2-7957-479d-b009-35a5c97b662f",
   "metadata": {},
   "outputs": [
    {
     "name": "stdout",
     "output_type": "stream",
     "text": [
      " * sqlite:///leetcode_database.db\n",
      "Done.\n"
     ]
    },
    {
     "data": {
      "text/html": [
       "<table>\n",
       "    <thead>\n",
       "        <tr>\n",
       "            <th>name</th>\n",
       "        </tr>\n",
       "    </thead>\n",
       "    <tbody>\n",
       "        <tr>\n",
       "            <td>Will</td>\n",
       "        </tr>\n",
       "        <tr>\n",
       "            <td>Jane</td>\n",
       "        </tr>\n",
       "        <tr>\n",
       "            <td>Bill</td>\n",
       "        </tr>\n",
       "        <tr>\n",
       "            <td>Zack</td>\n",
       "        </tr>\n",
       "    </tbody>\n",
       "</table>"
      ],
      "text/plain": [
       "[('Will',), ('Jane',), ('Bill',), ('Zack',)]"
      ]
     },
     "execution_count": 11,
     "metadata": {},
     "output_type": "execute_result"
    }
   ],
   "source": [
    "%%sql\n",
    "SELECT name\n",
    "FROM Customer\n",
    "WHERE referee_id !=2 OR referee_id IS NULL\n"
   ]
  },
  {
   "cell_type": "markdown",
   "id": "8d384831-21cf-4a1c-9406-3507e141753b",
   "metadata": {},
   "source": [
    "* Few Learnings : \n",
    "* Only Zack is not referred by 2, rest all are null values\n",
    "* So, we can use != not equal to function of sql to find out zack\n",
    "* But we, also have to handle and consider customers with null referees/values\n",
    "* And for that, we have clauses like\n",
    "    * IS NULL\n",
    "    * NOT NULL\n",
    "* WE used 'OR' here and not 'AND', we need customers who are not referred by\n",
    "* id 2 OR have null referees, but should not be refereed by id"
   ]
  },
  {
   "cell_type": "code",
   "execution_count": 14,
   "id": "c6bcb452-9665-4fb5-93dd-37c1fdd5c283",
   "metadata": {},
   "outputs": [
    {
     "name": "stdout",
     "output_type": "stream",
     "text": [
      " * sqlite:///leetcode_database.db\n",
      "Done.\n"
     ]
    },
    {
     "data": {
      "text/html": [
       "<table>\n",
       "    <thead>\n",
       "        <tr>\n",
       "            <th>id</th>\n",
       "            <th>name</th>\n",
       "            <th>referee_id</th>\n",
       "        </tr>\n",
       "    </thead>\n",
       "    <tbody>\n",
       "        <tr>\n",
       "            <td>1</td>\n",
       "            <td>Will</td>\n",
       "            <td>None</td>\n",
       "        </tr>\n",
       "        <tr>\n",
       "            <td>2</td>\n",
       "            <td>Jane</td>\n",
       "            <td>None</td>\n",
       "        </tr>\n",
       "        <tr>\n",
       "            <td>4</td>\n",
       "            <td>Bill</td>\n",
       "            <td>None</td>\n",
       "        </tr>\n",
       "    </tbody>\n",
       "</table>"
      ],
      "text/plain": [
       "[(1, 'Will', None), (2, 'Jane', None), (4, 'Bill', None)]"
      ]
     },
     "execution_count": 14,
     "metadata": {},
     "output_type": "execute_result"
    }
   ],
   "source": [
    "%%sql\n",
    "SELECT * FROM Customer\n",
    "WHERE referee_id IS NULL                      -- IS NULL - rows with NULL values"
   ]
  },
  {
   "cell_type": "code",
   "execution_count": 16,
   "id": "d1be6e1f-8542-49f4-9c17-c9137d8e8792",
   "metadata": {},
   "outputs": [
    {
     "name": "stdout",
     "output_type": "stream",
     "text": [
      " * sqlite:///leetcode_database.db\n",
      "Done.\n"
     ]
    },
    {
     "data": {
      "text/html": [
       "<table>\n",
       "    <thead>\n",
       "        <tr>\n",
       "            <th>id</th>\n",
       "            <th>name</th>\n",
       "            <th>referee_id</th>\n",
       "        </tr>\n",
       "    </thead>\n",
       "    <tbody>\n",
       "        <tr>\n",
       "            <td>3</td>\n",
       "            <td>Alex</td>\n",
       "            <td>2</td>\n",
       "        </tr>\n",
       "        <tr>\n",
       "            <td>5</td>\n",
       "            <td>Zack</td>\n",
       "            <td>1</td>\n",
       "        </tr>\n",
       "        <tr>\n",
       "            <td>6</td>\n",
       "            <td>Mark</td>\n",
       "            <td>2</td>\n",
       "        </tr>\n",
       "    </tbody>\n",
       "</table>"
      ],
      "text/plain": [
       "[(3, 'Alex', 2), (5, 'Zack', 1), (6, 'Mark', 2)]"
      ]
     },
     "execution_count": 16,
     "metadata": {},
     "output_type": "execute_result"
    }
   ],
   "source": [
    "%%sql\n",
    "SELECT * FROM Customer\n",
    "WHERE referee_id NOT NULL                    -- NOT NULL - rows with no NULL values"
   ]
  },
  {
   "cell_type": "markdown",
   "id": "eef61a86-213c-4b2e-a55d-a16a23f6a227",
   "metadata": {},
   "source": [
    "* IS NULL and NOT NULL only true for NULL\n",
    "* if column has = 'NA' - , true when considered as string\n",
    "* column = 'NONE' - consider that as string\n",
    "##### Most optimised way is\n",
    "  WHERE column IN ('NA', 'NONE', 'N/A', NULL) ✅ Match any of these literal strings"
   ]
  },
  {
   "cell_type": "markdown",
   "id": "c5e8083f-abd4-4a39-ab97-34b552fa4b74",
   "metadata": {},
   "source": [
    "#### OR | AND | BETWEEN"
   ]
  },
  {
   "cell_type": "markdown",
   "id": "036c24c1-3293-4985-b7a1-a82cee9bf9a8",
   "metadata": {},
   "source": [
    "* AND - Combine Multiple True Conditions, returns only those rows that satisfies all the conditions\n",
    "* OR - Combine Alternatives - Returns those rows that satisfies atleast one condition\n",
    "* BETWEEN - FOR KEEP A RANGE - WHERE column BETWEEN value1 AND value2;\n"
   ]
  },
  {
   "cell_type": "markdown",
   "id": "cd79690f-de61-44b9-a40e-905b6f3dbf45",
   "metadata": {},
   "source": [
    "##### Common Mistake - USE of OR + AND"
   ]
  },
  {
   "cell_type": "code",
   "execution_count": 18,
   "id": "e6d322ed-824a-44af-9205-83adf1591648",
   "metadata": {},
   "outputs": [
    {
     "name": "stdout",
     "output_type": "stream",
     "text": [
      " * sqlite:///leetcode_database.db\n",
      "Done.\n"
     ]
    },
    {
     "data": {
      "text/html": [
       "<table>\n",
       "    <thead>\n",
       "        <tr>\n",
       "            <th>id</th>\n",
       "            <th>name</th>\n",
       "            <th>referee_id</th>\n",
       "        </tr>\n",
       "    </thead>\n",
       "    <tbody>\n",
       "        <tr>\n",
       "            <td>3</td>\n",
       "            <td>Alex</td>\n",
       "            <td>2</td>\n",
       "        </tr>\n",
       "    </tbody>\n",
       "</table>"
      ],
      "text/plain": [
       "[(3, 'Alex', 2)]"
      ]
     },
     "execution_count": 18,
     "metadata": {},
     "output_type": "execute_result"
    }
   ],
   "source": [
    "%%sql\n",
    "SELECT * FROM Customer\n",
    "WHERE (name = 'Alex' OR 'Mark') AND referee_id=2"
   ]
  },
  {
   "cell_type": "code",
   "execution_count": null,
   "id": "410fc300-5bb8-4a2f-9257-69b1d8cb432a",
   "metadata": {},
   "outputs": [],
   "source": []
  }
 ],
 "metadata": {
  "kernelspec": {
   "display_name": "Python [conda env:base] *",
   "language": "python",
   "name": "conda-base-py"
  },
  "language_info": {
   "codemirror_mode": {
    "name": "ipython",
    "version": 3
   },
   "file_extension": ".py",
   "mimetype": "text/x-python",
   "name": "python",
   "nbconvert_exporter": "python",
   "pygments_lexer": "ipython3",
   "version": "3.12.7"
  }
 },
 "nbformat": 4,
 "nbformat_minor": 5
}
