{
 "cells": [
  {
   "cell_type": "code",
   "execution_count": 1,
   "id": "0e282d34-d545-4720-9eb6-45ab6c62b7f2",
   "metadata": {},
   "outputs": [
    {
     "name": "stdout",
     "output_type": "stream",
     "text": [
      "Successfully connected to SQL database\n",
      "success\n"
     ]
    }
   ],
   "source": [
    "import pandas as pd\n",
    "import sqlite3\n",
    "import sql\n",
    "\n",
    "sql.style = 'plain'\n",
    "\n",
    "%load_ext sql\n",
    "connection=sqlite3.connect(\"leetcode_database.db\")\n",
    "print(\"Successfully connected to SQL database\")\n",
    "\n",
    "\n",
    "# Connect to SQLite\n",
    "%sql sqlite:///leetcode_database.db\n",
    "print(\"success\")"
   ]
  },
  {
   "cell_type": "code",
   "execution_count": 2,
   "id": "d4b1b61b-d40a-4732-94ab-2448f6eff8a6",
   "metadata": {},
   "outputs": [
    {
     "name": "stdout",
     "output_type": "stream",
     "text": [
      " * sqlite:///leetcode_database.db\n",
      "Done.\n",
      "Done.\n",
      "2 rows affected.\n"
     ]
    },
    {
     "data": {
      "text/plain": [
       "[]"
      ]
     },
     "execution_count": 2,
     "metadata": {},
     "output_type": "execute_result"
    }
   ],
   "source": [
    "%%sql\n",
    "-- Drop the table if it already exists\n",
    "DROP TABLE IF EXISTS Tweets;\n",
    "\n",
    "-- Create the Tweets table\n",
    "CREATE TABLE Tweets (\n",
    "    tweet_id INT PRIMARY KEY,\n",
    "    content VARCHAR(255)\n",
    ");\n",
    "\n",
    "-- Insert data into Tweets table\n",
    "INSERT INTO Tweets (tweet_id, content) VALUES\n",
    "(1, 'Let us Code'),\n",
    "(2, 'More than fifteen chars are here!');"
   ]
  },
  {
   "cell_type": "code",
   "execution_count": 3,
   "id": "a85238d6-b0bb-46ce-a4c1-2a76127fe0ee",
   "metadata": {},
   "outputs": [
    {
     "name": "stdout",
     "output_type": "stream",
     "text": [
      " * sqlite:///leetcode_database.db\n",
      "Done.\n"
     ]
    },
    {
     "data": {
      "text/html": [
       "<table>\n",
       "    <thead>\n",
       "        <tr>\n",
       "            <th>tweet_id</th>\n",
       "            <th>content</th>\n",
       "        </tr>\n",
       "    </thead>\n",
       "    <tbody>\n",
       "        <tr>\n",
       "            <td>1</td>\n",
       "            <td>Let us Code</td>\n",
       "        </tr>\n",
       "        <tr>\n",
       "            <td>2</td>\n",
       "            <td>More than fifteen chars are here!</td>\n",
       "        </tr>\n",
       "    </tbody>\n",
       "</table>"
      ],
      "text/plain": [
       "[(1, 'Let us Code'), (2, 'More than fifteen chars are here!')]"
      ]
     },
     "execution_count": 3,
     "metadata": {},
     "output_type": "execute_result"
    }
   ],
   "source": [
    "%%sql\n",
    "SELECT * FROM Tweets"
   ]
  },
  {
   "cell_type": "markdown",
   "id": "e854123e-a8ab-4774-b2a9-c0453883ad90",
   "metadata": {},
   "source": [
    "###### PS:  Write a solution to find the IDs of the invalid tweets. \n",
    "* The tweet is invalid if the number of characters used in the content of the tweet is strictly greater than 15."
   ]
  },
  {
   "cell_type": "code",
   "execution_count": 4,
   "id": "4061e6bf-4a14-4d76-a701-0edf2f1611c5",
   "metadata": {},
   "outputs": [
    {
     "name": "stdout",
     "output_type": "stream",
     "text": [
      " * sqlite:///leetcode_database.db\n",
      "Done.\n"
     ]
    },
    {
     "data": {
      "text/html": [
       "<table>\n",
       "    <thead>\n",
       "        <tr>\n",
       "            <th>tweet_id</th>\n",
       "            <th>content</th>\n",
       "            <th>character_length</th>\n",
       "        </tr>\n",
       "    </thead>\n",
       "    <tbody>\n",
       "        <tr>\n",
       "            <td>1</td>\n",
       "            <td>Let us Code</td>\n",
       "            <td>11</td>\n",
       "        </tr>\n",
       "        <tr>\n",
       "            <td>2</td>\n",
       "            <td>More than fifteen chars are here!</td>\n",
       "            <td>33</td>\n",
       "        </tr>\n",
       "    </tbody>\n",
       "</table>"
      ],
      "text/plain": [
       "[(1, 'Let us Code', 11), (2, 'More than fifteen chars are here!', 33)]"
      ]
     },
     "execution_count": 4,
     "metadata": {},
     "output_type": "execute_result"
    }
   ],
   "source": [
    "%%sql\n",
    "\n",
    "SELECT *,LENGTH(content) AS character_length\n",
    "FROM Tweets"
   ]
  },
  {
   "cell_type": "markdown",
   "id": "5e4ecd02-1229-4d84-9b5a-1719a9f7b9cb",
   "metadata": {},
   "source": [
    "### LENGTH() - to count the total number of characters\n",
    "### It also counts spaces as well"
   ]
  },
  {
   "cell_type": "code",
   "execution_count": 5,
   "id": "94c6697d-bcad-46f9-8336-38367e4d174c",
   "metadata": {},
   "outputs": [
    {
     "name": "stdout",
     "output_type": "stream",
     "text": [
      " * sqlite:///leetcode_database.db\n",
      "Done.\n"
     ]
    },
    {
     "data": {
      "text/html": [
       "<table>\n",
       "    <thead>\n",
       "        <tr>\n",
       "            <th>tweet_id</th>\n",
       "            <th>content</th>\n",
       "            <th>character_length</th>\n",
       "        </tr>\n",
       "    </thead>\n",
       "    <tbody>\n",
       "        <tr>\n",
       "            <td>2</td>\n",
       "            <td>More than fifteen chars are here!</td>\n",
       "            <td>33</td>\n",
       "        </tr>\n",
       "    </tbody>\n",
       "</table>"
      ],
      "text/plain": [
       "[(2, 'More than fifteen chars are here!', 33)]"
      ]
     },
     "execution_count": 5,
     "metadata": {},
     "output_type": "execute_result"
    }
   ],
   "source": [
    "%%sql\n",
    "SELECT *,LENGTH(content) AS character_length\n",
    "FROM Tweets\n",
    "WHERE character_length > 15                     -- characters more than 15 (strict)"
   ]
  },
  {
   "cell_type": "code",
   "execution_count": 6,
   "id": "49c7f289-62c2-4ce3-af95-70950b76f5d9",
   "metadata": {},
   "outputs": [
    {
     "name": "stdout",
     "output_type": "stream",
     "text": [
      " * sqlite:///leetcode_database.db\n",
      "Done.\n"
     ]
    },
    {
     "data": {
      "text/html": [
       "<table>\n",
       "    <thead>\n",
       "        <tr>\n",
       "            <th>tweet_id</th>\n",
       "            <th>character_length</th>\n",
       "        </tr>\n",
       "    </thead>\n",
       "    <tbody>\n",
       "        <tr>\n",
       "            <td>2</td>\n",
       "            <td>33</td>\n",
       "        </tr>\n",
       "    </tbody>\n",
       "</table>"
      ],
      "text/plain": [
       "[(2, 33)]"
      ]
     },
     "execution_count": 6,
     "metadata": {},
     "output_type": "execute_result"
    }
   ],
   "source": [
    "%%sql\n",
    "SELECT tweet_id,LENGTH(content) AS character_length\n",
    "FROM Tweets\n",
    "WHERE character_length > 15"
   ]
  },
  {
   "cell_type": "markdown",
   "id": "39d8e37f-61ad-4a97-8363-17380aff53cd",
   "metadata": {},
   "source": [
    "* If only tweet_id is required in the output, no count of character_length"
   ]
  },
  {
   "cell_type": "code",
   "execution_count": 7,
   "id": "fa20a36b-d36a-4397-a2d2-441cd113be41",
   "metadata": {},
   "outputs": [
    {
     "name": "stdout",
     "output_type": "stream",
     "text": [
      " * sqlite:///leetcode_database.db\n",
      "Done.\n"
     ]
    },
    {
     "data": {
      "text/html": [
       "<table>\n",
       "    <thead>\n",
       "        <tr>\n",
       "            <th>tweet_id</th>\n",
       "        </tr>\n",
       "    </thead>\n",
       "    <tbody>\n",
       "        <tr>\n",
       "            <td>2</td>\n",
       "        </tr>\n",
       "    </tbody>\n",
       "</table>"
      ],
      "text/plain": [
       "[(2,)]"
      ]
     },
     "execution_count": 7,
     "metadata": {},
     "output_type": "execute_result"
    }
   ],
   "source": [
    "%%sql\n",
    "\n",
    "SELECT tweet_id\n",
    "FROM Tweets\n",
    "WHERE LENGTH(content)  > 15"
   ]
  },
  {
   "cell_type": "markdown",
   "id": "51e9a4a5-d6ee-40c1-982c-8ff7d4cb48ca",
   "metadata": {},
   "source": [
    "* Tweet 2 has length = 33. It is an invalid tweet."
   ]
  },
  {
   "cell_type": "code",
   "execution_count": null,
   "id": "fd100c8c-2e0d-457b-87c8-7da250ff7ab0",
   "metadata": {},
   "outputs": [],
   "source": []
  }
 ],
 "metadata": {
  "kernelspec": {
   "display_name": "Python [conda env:base] *",
   "language": "python",
   "name": "conda-base-py"
  },
  "language_info": {
   "codemirror_mode": {
    "name": "ipython",
    "version": 3
   },
   "file_extension": ".py",
   "mimetype": "text/x-python",
   "name": "python",
   "nbconvert_exporter": "python",
   "pygments_lexer": "ipython3",
   "version": "3.12.7"
  }
 },
 "nbformat": 4,
 "nbformat_minor": 5
}
