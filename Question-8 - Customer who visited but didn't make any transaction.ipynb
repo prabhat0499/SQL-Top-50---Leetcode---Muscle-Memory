{
 "cells": [
  {
   "cell_type": "code",
   "execution_count": 1,
   "id": "b5860eda-75be-496b-8938-b8a2423a5ccb",
   "metadata": {},
   "outputs": [
    {
     "name": "stdout",
     "output_type": "stream",
     "text": [
      "Successfully connected to SQL database\n",
      "success\n"
     ]
    }
   ],
   "source": [
    "import pandas as pd\n",
    "import sqlite3\n",
    "import sql\n",
    "\n",
    "sql.style = 'plain'\n",
    "\n",
    "%load_ext sql\n",
    "connection=sqlite3.connect(\"leetcode_database.db\")\n",
    "print(\"Successfully connected to SQL database\")\n",
    "\n",
    "\n",
    "# Connect to SQLite\n",
    "%sql sqlite:///leetcode_database.db\n",
    "print(\"success\")"
   ]
  },
  {
   "cell_type": "code",
   "execution_count": 2,
   "id": "84f8e679-1dd0-43ec-8cc6-60ab21a00071",
   "metadata": {},
   "outputs": [
    {
     "name": "stdout",
     "output_type": "stream",
     "text": [
      " * sqlite:///leetcode_database.db\n",
      "Done.\n",
      "Done.\n",
      "Done.\n",
      "7 rows affected.\n"
     ]
    },
    {
     "data": {
      "text/plain": [
       "[]"
      ]
     },
     "execution_count": 2,
     "metadata": {},
     "output_type": "execute_result"
    }
   ],
   "source": [
    "%%sql\n",
    "-- Drop tables if they already exist\n",
    "DROP TABLE IF EXISTS Transactions;\n",
    "DROP TABLE IF EXISTS Visits;\n",
    "\n",
    "-- Create Visits table\n",
    "CREATE TABLE Visits (\n",
    "    visit_id INT PRIMARY KEY,\n",
    "    customer_id INT\n",
    ");\n",
    "\n",
    "-- Insert data into Visits\n",
    "INSERT INTO Visits (visit_id, customer_id) VALUES\n",
    "(1, 23),\n",
    "(2, 9),\n",
    "(4, 30),\n",
    "(5, 54),\n",
    "(6, 96),\n",
    "(7, 54),\n",
    "(8, 54);"
   ]
  },
  {
   "cell_type": "code",
   "execution_count": 3,
   "id": "f978b2fd-ecb7-4408-bd76-7a6127f589ab",
   "metadata": {},
   "outputs": [
    {
     "name": "stdout",
     "output_type": "stream",
     "text": [
      " * sqlite:///leetcode_database.db\n",
      "Done.\n",
      "5 rows affected.\n"
     ]
    },
    {
     "data": {
      "text/plain": [
       "[]"
      ]
     },
     "execution_count": 3,
     "metadata": {},
     "output_type": "execute_result"
    }
   ],
   "source": [
    "%%sql\n",
    "-- Create Transactions table\n",
    "CREATE TABLE Transactions (\n",
    "    transaction_id INT PRIMARY KEY,\n",
    "    visit_id INT,\n",
    "    amount INT\n",
    ");\n",
    "\n",
    "-- Insert data into Transactions\n",
    "INSERT INTO Transactions (transaction_id, visit_id, amount) VALUES\n",
    "(2, 5, 310),\n",
    "(3, 5, 300),\n",
    "(9, 5, 200),\n",
    "(12, 1, 910),\n",
    "(13, 2, 970);"
   ]
  },
  {
   "cell_type": "code",
   "execution_count": 4,
   "id": "90c8f956-d434-47d9-a9f7-11fee0d8ecb2",
   "metadata": {},
   "outputs": [
    {
     "name": "stdout",
     "output_type": "stream",
     "text": [
      " * sqlite:///leetcode_database.db\n",
      "Done.\n"
     ]
    },
    {
     "data": {
      "text/html": [
       "<table>\n",
       "    <thead>\n",
       "        <tr>\n",
       "            <th>visit_id</th>\n",
       "            <th>customer_id</th>\n",
       "        </tr>\n",
       "    </thead>\n",
       "    <tbody>\n",
       "        <tr>\n",
       "            <td>1</td>\n",
       "            <td>23</td>\n",
       "        </tr>\n",
       "        <tr>\n",
       "            <td>2</td>\n",
       "            <td>9</td>\n",
       "        </tr>\n",
       "        <tr>\n",
       "            <td>4</td>\n",
       "            <td>30</td>\n",
       "        </tr>\n",
       "        <tr>\n",
       "            <td>5</td>\n",
       "            <td>54</td>\n",
       "        </tr>\n",
       "        <tr>\n",
       "            <td>6</td>\n",
       "            <td>96</td>\n",
       "        </tr>\n",
       "        <tr>\n",
       "            <td>7</td>\n",
       "            <td>54</td>\n",
       "        </tr>\n",
       "        <tr>\n",
       "            <td>8</td>\n",
       "            <td>54</td>\n",
       "        </tr>\n",
       "    </tbody>\n",
       "</table>"
      ],
      "text/plain": [
       "[(1, 23), (2, 9), (4, 30), (5, 54), (6, 96), (7, 54), (8, 54)]"
      ]
     },
     "execution_count": 4,
     "metadata": {},
     "output_type": "execute_result"
    }
   ],
   "source": [
    "%%sql\n",
    "SELECT * FROM Visits"
   ]
  },
  {
   "cell_type": "code",
   "execution_count": 5,
   "id": "e4048365-2a32-4632-8bb6-5a2761010210",
   "metadata": {},
   "outputs": [
    {
     "name": "stdout",
     "output_type": "stream",
     "text": [
      " * sqlite:///leetcode_database.db\n",
      "Done.\n"
     ]
    },
    {
     "data": {
      "text/html": [
       "<table>\n",
       "    <thead>\n",
       "        <tr>\n",
       "            <th>transaction_id</th>\n",
       "            <th>visit_id</th>\n",
       "            <th>amount</th>\n",
       "        </tr>\n",
       "    </thead>\n",
       "    <tbody>\n",
       "        <tr>\n",
       "            <td>2</td>\n",
       "            <td>5</td>\n",
       "            <td>310</td>\n",
       "        </tr>\n",
       "        <tr>\n",
       "            <td>3</td>\n",
       "            <td>5</td>\n",
       "            <td>300</td>\n",
       "        </tr>\n",
       "        <tr>\n",
       "            <td>9</td>\n",
       "            <td>5</td>\n",
       "            <td>200</td>\n",
       "        </tr>\n",
       "        <tr>\n",
       "            <td>12</td>\n",
       "            <td>1</td>\n",
       "            <td>910</td>\n",
       "        </tr>\n",
       "        <tr>\n",
       "            <td>13</td>\n",
       "            <td>2</td>\n",
       "            <td>970</td>\n",
       "        </tr>\n",
       "    </tbody>\n",
       "</table>"
      ],
      "text/plain": [
       "[(2, 5, 310), (3, 5, 300), (9, 5, 200), (12, 1, 910), (13, 2, 970)]"
      ]
     },
     "execution_count": 5,
     "metadata": {},
     "output_type": "execute_result"
    }
   ],
   "source": [
    "%%sql\n",
    "SELECT * FROM Transactions"
   ]
  },
  {
   "cell_type": "markdown",
   "id": "02fbbecd-9061-4d7e-84cf-bcd19ac5f16c",
   "metadata": {},
   "source": [
    "###### PS : Write a solution to find the IDs of the users who visited without making any transactions and the number of times they made these types of visits."
   ]
  },
  {
   "cell_type": "markdown",
   "id": "7715d1f1-b0f6-4f99-ae91-af86c0dc0219",
   "metadata": {},
   "source": [
    "* Find out customer_ids of people who made the visit but didn't made any transaction\n",
    "* How many number of times, they did the same - COUNT function\n",
    "* Mean, thier visit_id is not present in Transaction Table\n",
    "* Then group by customer_id to count how many such \"non-transaction visits\" each user made.\n",
    "* JOIN - LEFT JOIN ofc, since you need all the customer_id and match it with Transaction table to see which customers have made the transaction (present in the transaction table) or not"
   ]
  },
  {
   "cell_type": "code",
   "execution_count": 39,
   "id": "ede22a45-a90d-4ea7-b25d-9979df10fde4",
   "metadata": {},
   "outputs": [
    {
     "name": "stdout",
     "output_type": "stream",
     "text": [
      " * sqlite:///leetcode_database.db\n",
      "Done.\n"
     ]
    },
    {
     "data": {
      "text/html": [
       "<table>\n",
       "    <thead>\n",
       "        <tr>\n",
       "            <th>visit_id</th>\n",
       "            <th>customer_id</th>\n",
       "            <th>transaction_id</th>\n",
       "            <th>visit_id_1</th>\n",
       "            <th>amount</th>\n",
       "        </tr>\n",
       "    </thead>\n",
       "    <tbody>\n",
       "        <tr>\n",
       "            <td>1</td>\n",
       "            <td>23</td>\n",
       "            <td>12</td>\n",
       "            <td>1</td>\n",
       "            <td>910</td>\n",
       "        </tr>\n",
       "        <tr>\n",
       "            <td>2</td>\n",
       "            <td>9</td>\n",
       "            <td>13</td>\n",
       "            <td>2</td>\n",
       "            <td>970</td>\n",
       "        </tr>\n",
       "        <tr>\n",
       "            <td>4</td>\n",
       "            <td>30</td>\n",
       "            <td>None</td>\n",
       "            <td>None</td>\n",
       "            <td>None</td>\n",
       "        </tr>\n",
       "        <tr>\n",
       "            <td>5</td>\n",
       "            <td>54</td>\n",
       "            <td>2</td>\n",
       "            <td>5</td>\n",
       "            <td>310</td>\n",
       "        </tr>\n",
       "        <tr>\n",
       "            <td>5</td>\n",
       "            <td>54</td>\n",
       "            <td>3</td>\n",
       "            <td>5</td>\n",
       "            <td>300</td>\n",
       "        </tr>\n",
       "        <tr>\n",
       "            <td>5</td>\n",
       "            <td>54</td>\n",
       "            <td>9</td>\n",
       "            <td>5</td>\n",
       "            <td>200</td>\n",
       "        </tr>\n",
       "        <tr>\n",
       "            <td>6</td>\n",
       "            <td>96</td>\n",
       "            <td>None</td>\n",
       "            <td>None</td>\n",
       "            <td>None</td>\n",
       "        </tr>\n",
       "        <tr>\n",
       "            <td>7</td>\n",
       "            <td>54</td>\n",
       "            <td>None</td>\n",
       "            <td>None</td>\n",
       "            <td>None</td>\n",
       "        </tr>\n",
       "        <tr>\n",
       "            <td>8</td>\n",
       "            <td>54</td>\n",
       "            <td>None</td>\n",
       "            <td>None</td>\n",
       "            <td>None</td>\n",
       "        </tr>\n",
       "    </tbody>\n",
       "</table>"
      ],
      "text/plain": [
       "[(1, 23, 12, 1, 910),\n",
       " (2, 9, 13, 2, 970),\n",
       " (4, 30, None, None, None),\n",
       " (5, 54, 2, 5, 310),\n",
       " (5, 54, 3, 5, 300),\n",
       " (5, 54, 9, 5, 200),\n",
       " (6, 96, None, None, None),\n",
       " (7, 54, None, None, None),\n",
       " (8, 54, None, None, None)]"
      ]
     },
     "execution_count": 39,
     "metadata": {},
     "output_type": "execute_result"
    }
   ],
   "source": [
    "%%sql\n",
    "\n",
    "SELECT *\n",
    "FROM Visits v\n",
    "LEFT JOIN Transactions t\n",
    "ON v.visit_id=t.visit_id"
   ]
  },
  {
   "cell_type": "markdown",
   "id": "8c560962-b222-4787-85b2-9f7e73635302",
   "metadata": {},
   "source": [
    "* LEFT JOIN"
   ]
  },
  {
   "cell_type": "code",
   "execution_count": 43,
   "id": "c76cc982-60e3-4653-8f3b-4a93e4c065b2",
   "metadata": {},
   "outputs": [
    {
     "name": "stdout",
     "output_type": "stream",
     "text": [
      " * sqlite:///leetcode_database.db\n",
      "Done.\n"
     ]
    },
    {
     "data": {
      "text/html": [
       "<table>\n",
       "    <thead>\n",
       "        <tr>\n",
       "            <th>customer_id</th>\n",
       "            <th>visited_transacted_id</th>\n",
       "        </tr>\n",
       "    </thead>\n",
       "    <tbody>\n",
       "        <tr>\n",
       "            <td>23</td>\n",
       "            <td>1</td>\n",
       "        </tr>\n",
       "        <tr>\n",
       "            <td>9</td>\n",
       "            <td>2</td>\n",
       "        </tr>\n",
       "        <tr>\n",
       "            <td>30</td>\n",
       "            <td>None</td>\n",
       "        </tr>\n",
       "        <tr>\n",
       "            <td>54</td>\n",
       "            <td>5</td>\n",
       "        </tr>\n",
       "        <tr>\n",
       "            <td>54</td>\n",
       "            <td>5</td>\n",
       "        </tr>\n",
       "        <tr>\n",
       "            <td>54</td>\n",
       "            <td>5</td>\n",
       "        </tr>\n",
       "        <tr>\n",
       "            <td>96</td>\n",
       "            <td>None</td>\n",
       "        </tr>\n",
       "        <tr>\n",
       "            <td>54</td>\n",
       "            <td>None</td>\n",
       "        </tr>\n",
       "        <tr>\n",
       "            <td>54</td>\n",
       "            <td>None</td>\n",
       "        </tr>\n",
       "    </tbody>\n",
       "</table>"
      ],
      "text/plain": [
       "[(23, 1),\n",
       " (9, 2),\n",
       " (30, None),\n",
       " (54, 5),\n",
       " (54, 5),\n",
       " (54, 5),\n",
       " (96, None),\n",
       " (54, None),\n",
       " (54, None)]"
      ]
     },
     "execution_count": 43,
     "metadata": {},
     "output_type": "execute_result"
    }
   ],
   "source": [
    "%%sql\n",
    "\n",
    "SELECT v.customer_id, t.visit_id AS visited_transacted_id  -- visited and made transaction\n",
    "FROM Visits v\n",
    "LEFT JOIN Transactions t\n",
    "ON v.visit_id=t.visit_id"
   ]
  },
  {
   "cell_type": "markdown",
   "id": "3628e390-9514-4fef-8234-4d663479818f",
   "metadata": {},
   "source": [
    "* customer no 30, doesn't have a visted_transacted id\n",
    "* customer no 96, doesn't have a visited_transacted id\n",
    "* Similarly, for 54 coming twice and not making any transaction"
   ]
  },
  {
   "cell_type": "markdown",
   "id": "3b0d51fe-9147-4f6e-8f5d-9723f5b92524",
   "metadata": {},
   "source": [
    "* Filter visit_id not present in Transaction Table using WHERE column IS NULL"
   ]
  },
  {
   "cell_type": "code",
   "execution_count": 35,
   "id": "9eb79282-15fd-4eba-80b8-fdc1eef9588a",
   "metadata": {},
   "outputs": [
    {
     "name": "stdout",
     "output_type": "stream",
     "text": [
      " * sqlite:///leetcode_database.db\n",
      "Done.\n"
     ]
    },
    {
     "data": {
      "text/html": [
       "<table>\n",
       "    <thead>\n",
       "        <tr>\n",
       "            <th>customer_id</th>\n",
       "            <th>visit_id</th>\n",
       "        </tr>\n",
       "    </thead>\n",
       "    <tbody>\n",
       "        <tr>\n",
       "            <td>30</td>\n",
       "            <td>None</td>\n",
       "        </tr>\n",
       "        <tr>\n",
       "            <td>96</td>\n",
       "            <td>None</td>\n",
       "        </tr>\n",
       "        <tr>\n",
       "            <td>54</td>\n",
       "            <td>None</td>\n",
       "        </tr>\n",
       "        <tr>\n",
       "            <td>54</td>\n",
       "            <td>None</td>\n",
       "        </tr>\n",
       "    </tbody>\n",
       "</table>"
      ],
      "text/plain": [
       "[(30, None), (96, None), (54, None), (54, None)]"
      ]
     },
     "execution_count": 35,
     "metadata": {},
     "output_type": "execute_result"
    }
   ],
   "source": [
    "%%sql\n",
    "\n",
    "SELECT v.customer_id, t.visit_id\n",
    "FROM Visits v\n",
    "LEFT JOIN Transactions t\n",
    "ON v.visit_id=t.visit_id\n",
    "WHERE t.visit_id IS NULL"
   ]
  },
  {
   "cell_type": "markdown",
   "id": "01d657b7-bc0a-4f54-8f4d-b2d8843dfb37",
   "metadata": {},
   "source": [
    "* COUNT of each customer who visited but didn't made any transaction"
   ]
  },
  {
   "cell_type": "code",
   "execution_count": 46,
   "id": "d88624b6-8ca3-4ecf-9cf6-7c04efc742b9",
   "metadata": {},
   "outputs": [
    {
     "name": "stdout",
     "output_type": "stream",
     "text": [
      " * sqlite:///leetcode_database.db\n",
      "Done.\n"
     ]
    },
    {
     "data": {
      "text/html": [
       "<table>\n",
       "    <thead>\n",
       "        <tr>\n",
       "            <th>customer_id</th>\n",
       "            <th>visit_id</th>\n",
       "            <th>count_of_window_shopping</th>\n",
       "        </tr>\n",
       "    </thead>\n",
       "    <tbody>\n",
       "        <tr>\n",
       "            <td>54</td>\n",
       "            <td>None</td>\n",
       "            <td>2</td>\n",
       "        </tr>\n",
       "        <tr>\n",
       "            <td>96</td>\n",
       "            <td>None</td>\n",
       "            <td>1</td>\n",
       "        </tr>\n",
       "        <tr>\n",
       "            <td>30</td>\n",
       "            <td>None</td>\n",
       "            <td>1</td>\n",
       "        </tr>\n",
       "    </tbody>\n",
       "</table>"
      ],
      "text/plain": [
       "[(54, None, 2), (96, None, 1), (30, None, 1)]"
      ]
     },
     "execution_count": 46,
     "metadata": {},
     "output_type": "execute_result"
    }
   ],
   "source": [
    "%%sql\n",
    "\n",
    "SELECT v.customer_id, t.visit_id, COUNT(*) AS count_of_window_shopping\n",
    "FROM Visits v\n",
    "LEFT JOIN Transactions t\n",
    "ON v.visit_id=t.visit_id\n",
    "WHERE t.visit_id IS NULL\n",
    "GROUP BY v.customer_id\n",
    "ORDER BY count_of_window_shopping DESC"
   ]
  },
  {
   "cell_type": "code",
   "execution_count": null,
   "id": "9cccf945-01c6-4d45-8e45-fb8e77d43a97",
   "metadata": {},
   "outputs": [],
   "source": []
  }
 ],
 "metadata": {
  "kernelspec": {
   "display_name": "Python [conda env:base] *",
   "language": "python",
   "name": "conda-base-py"
  },
  "language_info": {
   "codemirror_mode": {
    "name": "ipython",
    "version": 3
   },
   "file_extension": ".py",
   "mimetype": "text/x-python",
   "name": "python",
   "nbconvert_exporter": "python",
   "pygments_lexer": "ipython3",
   "version": "3.12.7"
  }
 },
 "nbformat": 4,
 "nbformat_minor": 5
}
