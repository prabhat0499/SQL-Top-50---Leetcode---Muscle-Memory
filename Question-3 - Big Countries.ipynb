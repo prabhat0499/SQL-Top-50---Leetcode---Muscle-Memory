{
 "cells": [
  {
   "cell_type": "code",
   "execution_count": 1,
   "id": "f07bfc9f-c2e9-409f-9849-9a633787896b",
   "metadata": {},
   "outputs": [
    {
     "name": "stdout",
     "output_type": "stream",
     "text": [
      "Successfully connected to SQL database\n",
      "success\n"
     ]
    }
   ],
   "source": [
    "import pandas as pd\n",
    "import sqlite3\n",
    "import sql\n",
    "\n",
    "sql.style = 'plain'\n",
    "\n",
    "%load_ext sql\n",
    "connection=sqlite3.connect(\"leetcode_database.db\")\n",
    "print(\"Successfully connected to SQL database\")\n",
    "\n",
    "\n",
    "# Connect to SQLite\n",
    "%sql sqlite:///leetcode_database.db\n",
    "print(\"success\")"
   ]
  },
  {
   "cell_type": "code",
   "execution_count": 2,
   "id": "ddbba5e6-37db-4991-8e49-3a191d19bb9e",
   "metadata": {},
   "outputs": [
    {
     "name": "stdout",
     "output_type": "stream",
     "text": [
      " * sqlite:///leetcode_database.db\n",
      "Done.\n",
      "Done.\n",
      "5 rows affected.\n"
     ]
    },
    {
     "data": {
      "text/plain": [
       "[]"
      ]
     },
     "execution_count": 2,
     "metadata": {},
     "output_type": "execute_result"
    }
   ],
   "source": [
    "%%sql\n",
    "-- Drop the table if it already exists\n",
    "DROP TABLE IF EXISTS World;\n",
    "\n",
    "-- Create the World table\n",
    "CREATE TABLE World (\n",
    "    name VARCHAR(100),\n",
    "    continent VARCHAR(50),\n",
    "    area INT,\n",
    "    population INT,\n",
    "    gdp BIGINT\n",
    ");\n",
    "\n",
    "-- Insert data into the World table\n",
    "INSERT INTO World (name, continent, area, population, gdp) VALUES\n",
    "('Afghanistan', 'Asia', 652230, 25500100, 20343000000),\n",
    "('Albania', 'Europe', 28748, 2831741, 12960000000),\n",
    "('Algeria', 'Africa', 2381741, 37100000, 188681000000),\n",
    "('Andorra', 'Europe', 468, 78115, 3712000000),\n",
    "('Angola', 'Africa', 1246700, 20609294, 100990000000);\n"
   ]
  },
  {
   "cell_type": "code",
   "execution_count": 3,
   "id": "ee66fa69-5dec-45ee-bb68-e64a5793510a",
   "metadata": {},
   "outputs": [
    {
     "name": "stdout",
     "output_type": "stream",
     "text": [
      " * sqlite:///leetcode_database.db\n",
      "Done.\n"
     ]
    },
    {
     "data": {
      "text/html": [
       "<table>\n",
       "    <thead>\n",
       "        <tr>\n",
       "            <th>name</th>\n",
       "            <th>continent</th>\n",
       "            <th>area</th>\n",
       "            <th>population</th>\n",
       "            <th>gdp</th>\n",
       "        </tr>\n",
       "    </thead>\n",
       "    <tbody>\n",
       "        <tr>\n",
       "            <td>Afghanistan</td>\n",
       "            <td>Asia</td>\n",
       "            <td>652230</td>\n",
       "            <td>25500100</td>\n",
       "            <td>20343000000</td>\n",
       "        </tr>\n",
       "        <tr>\n",
       "            <td>Albania</td>\n",
       "            <td>Europe</td>\n",
       "            <td>28748</td>\n",
       "            <td>2831741</td>\n",
       "            <td>12960000000</td>\n",
       "        </tr>\n",
       "        <tr>\n",
       "            <td>Algeria</td>\n",
       "            <td>Africa</td>\n",
       "            <td>2381741</td>\n",
       "            <td>37100000</td>\n",
       "            <td>188681000000</td>\n",
       "        </tr>\n",
       "        <tr>\n",
       "            <td>Andorra</td>\n",
       "            <td>Europe</td>\n",
       "            <td>468</td>\n",
       "            <td>78115</td>\n",
       "            <td>3712000000</td>\n",
       "        </tr>\n",
       "        <tr>\n",
       "            <td>Angola</td>\n",
       "            <td>Africa</td>\n",
       "            <td>1246700</td>\n",
       "            <td>20609294</td>\n",
       "            <td>100990000000</td>\n",
       "        </tr>\n",
       "    </tbody>\n",
       "</table>"
      ],
      "text/plain": [
       "[('Afghanistan', 'Asia', 652230, 25500100, 20343000000),\n",
       " ('Albania', 'Europe', 28748, 2831741, 12960000000),\n",
       " ('Algeria', 'Africa', 2381741, 37100000, 188681000000),\n",
       " ('Andorra', 'Europe', 468, 78115, 3712000000),\n",
       " ('Angola', 'Africa', 1246700, 20609294, 100990000000)]"
      ]
     },
     "execution_count": 3,
     "metadata": {},
     "output_type": "execute_result"
    }
   ],
   "source": [
    "%%sql\n",
    "SELECT * FROM World"
   ]
  },
  {
   "cell_type": "markdown",
   "id": "59e8a499-d9ab-4c08-848b-2def715f0277",
   "metadata": {},
   "source": [
    "#### A country is big if:\n",
    "* it has an area of at least three million (i.e., 3000000 km2), or\n",
    "* it has a population of at least twenty-five million (i.e., 25000000).\n",
    "* Write a solution to find the name, population, and area of the big countries."
   ]
  },
  {
   "cell_type": "code",
   "execution_count": 13,
   "id": "e423649a-5289-4c2a-b465-b6d89dcc6d78",
   "metadata": {},
   "outputs": [
    {
     "name": "stdout",
     "output_type": "stream",
     "text": [
      " * sqlite:///leetcode_database.db\n",
      "Done.\n"
     ]
    },
    {
     "data": {
      "text/html": [
       "<table>\n",
       "    <thead>\n",
       "        <tr>\n",
       "            <th>name</th>\n",
       "            <th>population</th>\n",
       "            <th>area</th>\n",
       "        </tr>\n",
       "    </thead>\n",
       "    <tbody>\n",
       "        <tr>\n",
       "            <td>Afghanistan</td>\n",
       "            <td>25500100</td>\n",
       "            <td>652230</td>\n",
       "        </tr>\n",
       "        <tr>\n",
       "            <td>Algeria</td>\n",
       "            <td>37100000</td>\n",
       "            <td>2381741</td>\n",
       "        </tr>\n",
       "    </tbody>\n",
       "</table>"
      ],
      "text/plain": [
       "[('Afghanistan', 25500100, 652230), ('Algeria', 37100000, 2381741)]"
      ]
     },
     "execution_count": 13,
     "metadata": {},
     "output_type": "execute_result"
    }
   ],
   "source": [
    "%%sql\n",
    "SELECT name,population, area \n",
    "FROM World\n",
    "WHERE area>=3000000 OR population>=25000000   -- >= - greater than or equal to\n",
    "\n",
    "-- area either greater than or equal to - 'atleast' means that\n",
    "-- population either greater than or equal to "
   ]
  },
  {
   "cell_type": "code",
   "execution_count": null,
   "id": "96351128-93f7-4a98-aeb4-fba5ce6fce7e",
   "metadata": {},
   "outputs": [],
   "source": [
    "* A country is considered to be BIG if any of the two cono"
   ]
  },
  {
   "cell_type": "code",
   "execution_count": null,
   "id": "81e068c0-d853-4b97-beda-a4018dcf4386",
   "metadata": {},
   "outputs": [],
   "source": []
  },
  {
   "cell_type": "code",
   "execution_count": null,
   "id": "06bca3c5-1c5e-4abf-a5f6-2e9ff251fbab",
   "metadata": {},
   "outputs": [],
   "source": []
  },
  {
   "cell_type": "code",
   "execution_count": null,
   "id": "42cfac62-faa9-4fbf-b9b1-e2067e6f2527",
   "metadata": {},
   "outputs": [],
   "source": []
  },
  {
   "cell_type": "code",
   "execution_count": null,
   "id": "6d3525ad-1e85-4447-9d3b-2f854faa7edb",
   "metadata": {},
   "outputs": [],
   "source": []
  }
 ],
 "metadata": {
  "kernelspec": {
   "display_name": "Python [conda env:base] *",
   "language": "python",
   "name": "conda-base-py"
  },
  "language_info": {
   "codemirror_mode": {
    "name": "ipython",
    "version": 3
   },
   "file_extension": ".py",
   "mimetype": "text/x-python",
   "name": "python",
   "nbconvert_exporter": "python",
   "pygments_lexer": "ipython3",
   "version": "3.12.7"
  }
 },
 "nbformat": 4,
 "nbformat_minor": 5
}
